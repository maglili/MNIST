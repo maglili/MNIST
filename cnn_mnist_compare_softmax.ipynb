{
 "cells": [
  {
   "cell_type": "markdown",
   "metadata": {
    "id": "YTUugH6MUZqw"
   },
   "source": [
    "## 前處理"
   ]
  },
  {
   "cell_type": "code",
   "execution_count": 28,
   "metadata": {
    "colab": {
     "base_uri": "https://localhost:8080/"
    },
    "executionInfo": {
     "elapsed": 4058,
     "status": "ok",
     "timestamp": 1604466398778,
     "user": {
      "displayName": "N26091194鄧立昌",
      "photoUrl": "",
      "userId": "09046790946486703509"
     },
     "user_tz": -480
    },
    "id": "BhnT55G9TbHW",
    "outputId": "b5faaa0f-b910-4684-ee04-b9d189941b57"
   },
   "outputs": [
    {
     "data": {
      "text/plain": [
       "<torch._C.Generator at 0x26ba1010370>"
      ]
     },
     "execution_count": 28,
     "metadata": {},
     "output_type": "execute_result"
    }
   ],
   "source": [
    "import torch \n",
    "import torch.nn as nn\n",
    "import torchvision.transforms as transforms\n",
    "import torchvision.datasets as dsets\n",
    "import matplotlib.pylab as plt\n",
    "import numpy as np\n",
    "torch.manual_seed(0)"
   ]
  },
  {
   "cell_type": "code",
   "execution_count": 29,
   "metadata": {
    "id": "TL_iLZVfT4bS"
   },
   "outputs": [],
   "source": [
    "def show_data(data_sample):\n",
    "    plt.imshow(data_sample[0].numpy().reshape(IMAGE_SIZE, IMAGE_SIZE), cmap='gray')\n",
    "    plt.title('y = '+ str(data_sample[1]))"
   ]
  },
  {
   "cell_type": "code",
   "execution_count": 30,
   "metadata": {
    "id": "KBVR3mc5UBqg"
   },
   "outputs": [],
   "source": [
    "IMAGE_SIZE = 28 # Original size: 28\n",
    "\n",
    "composed = transforms.Compose([transforms.Resize((IMAGE_SIZE, IMAGE_SIZE)) ,transforms.ToTensor(),])"
   ]
  },
  {
   "cell_type": "code",
   "execution_count": 31,
   "metadata": {
    "colab": {
     "base_uri": "https://localhost:8080/",
     "height": 401,
     "referenced_widgets": [
      "3bf0b701bb3e4ebba8b990bee71b893e",
      "4975768970184ac2bf415d6de729edba",
      "7fd14311efe440949cc7a14bd32eb6bf",
      "0717458c8fda4f6aa84dcf746605d10b",
      "5dac1542914b4a2194ad9a5a770a1f28",
      "44e5d10c5f5841629cf772f8214d627d",
      "1fb38b6977fd4982bbe57c2539ca1a57",
      "d18cdddf642d48cea5620759052b7fbc",
      "05103b081e3c4205b8db753f8c19b272",
      "7f7118d0e9324413829901b387b1dfc2",
      "86d7dfb8ea014530ad718ed554b3007f",
      "80786a7c59dc491f9cf7a2c5c2989299",
      "3f909e45cc3345c894d1692f65d2eccf",
      "62bea86f46134c9493e1a65ba615c8ea",
      "6096e425058d417ea27d66806e374707",
      "47ec492cf3d3434db7cc3cb96b3fdb56",
      "2cf35a91d60f4edf812b722761c9484b",
      "6a136ea3ac3d4a9aa13bec88c0c1d73b",
      "3223e91357b647a9866d1f251f470290",
      "5a92dbab9ecf4982bca0b8a770f65851",
      "6428ba44263242388292d9cc736cc2d2",
      "788d778fcf4e44188fa3b6ee641249be",
      "0e564c61cee849a1b968e06f4f53e93e",
      "220027c35a07419892c102b235056a1e",
      "b12751d3616e4f9cbfdc501d1968d892",
      "17fa43cb92644aa680d4cbe1c53678fc",
      "3b74868a9a24440ea9e6975bfc140f33",
      "a1ed5a2d8e2f46549d30843c7074171d",
      "11a925d46333404c8a49da65e17a5853",
      "6cb2c34c94164930a12832f676629f29",
      "ed720ac8a3d54392ae15b2e3aad02579",
      "7d749a8f036e495ca372390984eb9ec2"
     ]
    },
    "executionInfo": {
     "elapsed": 6100,
     "status": "ok",
     "timestamp": 1604466400827,
     "user": {
      "displayName": "N26091194鄧立昌",
      "photoUrl": "",
      "userId": "09046790946486703509"
     },
     "user_tz": -480
    },
    "id": "lgqsChd1T6BQ",
    "outputId": "af001bb7-7006-4037-a267-825b416a36a1"
   },
   "outputs": [],
   "source": [
    "train_dataset = dsets.MNIST(root='./data', train=True, download=True, transform=composed)\n",
    "validation_dataset = dsets.MNIST(root='./data', train=False, download=True, transform=composed)"
   ]
  },
  {
   "cell_type": "code",
   "execution_count": 32,
   "metadata": {
    "colab": {
     "base_uri": "https://localhost:8080/",
     "height": 335
    },
    "executionInfo": {
     "elapsed": 6099,
     "status": "ok",
     "timestamp": 1604466400829,
     "user": {
      "displayName": "N26091194鄧立昌",
      "photoUrl": "",
      "userId": "09046790946486703509"
     },
     "user_tz": -480
    },
    "id": "WIqi1zUWT-Yf",
    "outputId": "de9d38ab-df68-460b-ebea-cfcde195140e"
   },
   "outputs": [
    {
     "data": {
      "image/png": "[encoded data removed]",
      "text/plain": [
       "<Figure size 432x288 with 1 Axes>"
      ]
     },
     "metadata": {
      "needs_background": "light"
     },
     "output_type": "display_data"
    }
   ],
   "source": [
    "show_data(train_dataset[4])"
   ]
  },
  {
   "cell_type": "markdown",
   "metadata": {
    "id": "6QhjOdV4Uh1p"
   },
   "source": [
    "## CNN(final layer no softmax)"
   ]
  },
  {
   "cell_type": "code",
   "execution_count": 33,
   "metadata": {
    "colab": {
     "base_uri": "https://localhost:8080/"
    },
    "executionInfo": {
     "elapsed": 734,
     "status": "ok",
     "timestamp": 1604469288729,
     "user": {
      "displayName": "N26091194鄧立昌",
      "photoUrl": "",
      "userId": "09046790946486703509"
     },
     "user_tz": -480
    },
    "id": "cUdqBRn9UFOX",
    "outputId": "2ea28966-caf6-43fa-de9f-f7f5e3ff0ee9"
   },
   "outputs": [
    {
     "name": "stdout",
     "output_type": "stream",
     "text": [
      "GPU is avalible\n",
      "-Training on GPU-\n"
     ]
    }
   ],
   "source": [
    "if torch.cuda.is_available():\n",
    "  device = torch.device('cuda:0')\n",
    "  print('GPU is avalible')\n",
    "  print('-Training on GPU-')\n",
    "else:\n",
    "  device = torch.device('cpu')\n",
    "  print('GPU is not avalible')\n",
    "  print('Train on CPU')"
   ]
  },
  {
   "cell_type": "code",
   "execution_count": 34,
   "metadata": {
    "id": "0EhOigFUUxMn"
   },
   "outputs": [],
   "source": [
    "class CNN(nn.Module):\n",
    "    \n",
    "    # Contructor\n",
    "    def __init__(self, out_1=16, out_2=32):\n",
    "        super(CNN, self).__init__()\n",
    "        self.cnn1 = nn.Conv2d(in_channels=1, out_channels=out_1, kernel_size=5, padding=2)\n",
    "        self.maxpool1=nn.MaxPool2d(kernel_size=2)\n",
    "\n",
    "        self.cnn2 = nn.Conv2d(in_channels=out_1, out_channels=out_2, kernel_size=5, stride=1, padding=2)\n",
    "        self.maxpool2=nn.MaxPool2d(kernel_size=2)\n",
    "        self.fc1 = nn.Linear(out_2 * 7 * 7, 10)\n",
    "    \n",
    "    # Prediction\n",
    "    def forward(self, x):\n",
    "        x = self.cnn1(x)\n",
    "        x = torch.relu(x)\n",
    "        x = self.maxpool1(x)\n",
    "        x = self.cnn2(x)\n",
    "        x = torch.relu(x)\n",
    "        x = self.maxpool2(x)\n",
    "        x = x.view(x.size(0), -1)\n",
    "        x = self.fc1(x)\n",
    "        return x"
   ]
  },
  {
   "cell_type": "code",
   "execution_count": 35,
   "metadata": {
    "colab": {
     "base_uri": "https://localhost:8080/"
    },
    "executionInfo": {
     "elapsed": 627,
     "status": "ok",
     "timestamp": 1604469304670,
     "user": {
      "displayName": "N26091194鄧立昌",
      "photoUrl": "",
      "userId": "09046790946486703509"
     },
     "user_tz": -480
    },
    "id": "kNOq2ArYVTC4",
    "outputId": "2804384c-61fe-40de-a11a-26f8a75408c8"
   },
   "outputs": [
    {
     "data": {
      "text/plain": [
       "CNN(\n",
       "  (cnn1): Conv2d(1, 16, kernel_size=(5, 5), stride=(1, 1), padding=(2, 2))\n",
       "  (maxpool1): MaxPool2d(kernel_size=2, stride=2, padding=0, dilation=1, ceil_mode=False)\n",
       "  (cnn2): Conv2d(16, 32, kernel_size=(5, 5), stride=(1, 1), padding=(2, 2))\n",
       "  (maxpool2): MaxPool2d(kernel_size=2, stride=2, padding=0, dilation=1, ceil_mode=False)\n",
       "  (fc1): Linear(in_features=1568, out_features=10, bias=True)\n",
       ")"
      ]
     },
     "execution_count": 35,
     "metadata": {},
     "output_type": "execute_result"
    }
   ],
   "source": [
    "model = CNN(out_1=16, out_2=32)\n",
    "model.to(device)"
   ]
  },
  {
   "cell_type": "code",
   "execution_count": 36,
   "metadata": {
    "id": "nKn8Ejv5VVMo"
   },
   "outputs": [],
   "source": [
    "criterion = nn.CrossEntropyLoss()\n",
    "learning_rate = 0.1\n",
    "optimizer = torch.optim.SGD(model.parameters(), lr = learning_rate)\n",
    "train_loader = torch.utils.data.DataLoader(dataset=train_dataset, batch_size=128)\n",
    "validation_loader = torch.utils.data.DataLoader(dataset=validation_dataset, batch_size=4096)"
   ]
  },
  {
   "cell_type": "code",
   "execution_count": 37,
   "metadata": {
    "id": "qWfWNpPfVkwI"
   },
   "outputs": [],
   "source": [
    "def train_model(model,train_loader,validation_loader,optimizer,n_epochs=4):\n",
    "    \n",
    "  N_test=len(validation_dataset)\n",
    "  N_train=len(train_dataset)\n",
    "\n",
    "  train_acc=[] #training_accuracy\n",
    "  cv_acc=[]   #validatiob_accuracy\n",
    "  #trainning_loss=[]   #training_loss\n",
    "  train_cost=[]   #training_cost (sum of training_loss)\n",
    "  cv_cost=[]     #validation_cost\n",
    "\n",
    "  for epoch in range(n_epochs):\n",
    "    #training\n",
    "    cost = 0\n",
    "    correct = 0\n",
    "    model.train()\n",
    "    for x, y in train_loader:\n",
    "      x, y = x.to(device), y.to(device)\n",
    "      optimizer.zero_grad()\n",
    "      z = model(x)\n",
    "      _, yhat = torch.max(z.data, 1)\n",
    "      correct += (yhat == y).sum().item()\n",
    "      loss = criterion(z, y)\n",
    "      loss.backward()\n",
    "      optimizer.step()\n",
    "      #trainning_loss.append(loss.data)\n",
    "      cost += loss.item()\n",
    "    cost = cost / N_train   \n",
    "    train_cost.append(cost)\n",
    "    accuracy = correct / N_train\n",
    "    train_acc.append(accuracy)\n",
    "\n",
    "    #validation\n",
    "    correct=0\n",
    "    cost=0\n",
    "    model.eval()\n",
    "    with torch.no_grad(): \n",
    "      for x_test, y_test in validation_loader:\n",
    "        x_test, y_test= x_test.to(device), y_test.to(device)\n",
    "        z = model(x_test)\n",
    "        _, yhat = torch.max(z.data, 1)\n",
    "        correct += (yhat == y_test).sum().item()\n",
    "        loss = criterion(z, y_test)\n",
    "        cost += loss.item()\n",
    "      cost = cost / N_test\n",
    "      cv_cost.append(cost)\n",
    "      accuracy = correct / N_test\n",
    "      cv_acc.append(accuracy)\n",
    "     \n",
    "  return   train_acc, cv_acc, train_cost, cv_cost#, trainning_loss"
   ]
  },
  {
   "cell_type": "code",
   "execution_count": 38,
   "metadata": {
    "colab": {
     "base_uri": "https://localhost:8080/"
    },
    "executionInfo": {
     "elapsed": 23781,
     "status": "ok",
     "timestamp": 1604469335281,
     "user": {
      "displayName": "N26091194鄧立昌",
      "photoUrl": "",
      "userId": "09046790946486703509"
     },
     "user_tz": -480
    },
    "id": "fnTD0y-AVpcQ",
    "outputId": "093af9ba-1fec-48a3-dadb-068c9102552e"
   },
   "outputs": [
    {
     "name": "stdout",
     "output_type": "stream",
     "text": [
      "Wall time: 42.9 s\n"
     ]
    }
   ],
   "source": [
    "%%time\n",
    "train_acc, cv_acc, train_cost, cv_cost = train_model(model=model,n_epochs=4,train_loader=train_loader,validation_loader=validation_loader,optimizer=optimizer)"
   ]
  },
  {
   "cell_type": "code",
   "execution_count": 39,
   "metadata": {
    "colab": {
     "base_uri": "https://localhost:8080/",
     "height": 295
    },
    "executionInfo": {
     "elapsed": 680,
     "status": "ok",
     "timestamp": 1604469343007,
     "user": {
      "displayName": "N26091194鄧立昌",
      "photoUrl": "",
      "userId": "09046790946486703509"
     },
     "user_tz": -480
    },
    "id": "a6WPZkxAY0BB",
    "outputId": "810f349f-34be-4bf5-bb81-1ab6ebefaf6d"
   },
   "outputs": [
    {
     "data": {
      "image/png": "[encoded data removed]",
      "text/plain": [
       "<Figure size 432x288 with 1 Axes>"
      ]
     },
     "metadata": {
      "needs_background": "light"
     },
     "output_type": "display_data"
    }
   ],
   "source": [
    "plt.plot(train_acc,label='train_acc')\n",
    "plt.plot(cv_acc ,label='cv_acc')\n",
    "plt.title('train / valid  accuracy')\n",
    "plt.xlabel('epochs')\n",
    "plt.ylabel('acc')\n",
    "plt.legend()\n",
    "plt.grid()\n",
    "plt.show()"
   ]
  },
  {
   "cell_type": "code",
   "execution_count": 40,
   "metadata": {
    "colab": {
     "base_uri": "https://localhost:8080/",
     "height": 295
    },
    "executionInfo": {
     "elapsed": 837,
     "status": "ok",
     "timestamp": 1604469346352,
     "user": {
      "displayName": "N26091194鄧立昌",
      "photoUrl": "",
      "userId": "09046790946486703509"
     },
     "user_tz": -480
    },
    "id": "lgF6v8ZKWTVW",
    "outputId": "085942f0-d698-44b7-e729-032bb043cd69"
   },
   "outputs": [
    {
     "data": {
      "image/png": "[encoded data removed]",
      "text/plain": [
       "<Figure size 432x288 with 1 Axes>"
      ]
     },
     "metadata": {
      "needs_background": "light"
     },
     "output_type": "display_data"
    }
   ],
   "source": [
    "plt.plot(train_cost,label='train_cost')\n",
    "plt.plot(cv_cost,label='cv_acc')\n",
    "plt.title('train / valid  loss')\n",
    "plt.xlabel('epochs')\n",
    "plt.ylabel('loss')\n",
    "plt.legend()\n",
    "plt.grid()\n",
    "plt.show()"
   ]
  },
  {
   "cell_type": "code",
   "execution_count": 41,
   "metadata": {
    "colab": {
     "base_uri": "https://localhost:8080/",
     "height": 295
    },
    "executionInfo": {
     "elapsed": 692,
     "status": "ok",
     "timestamp": 1604469348924,
     "user": {
      "displayName": "N26091194鄧立昌",
      "photoUrl": "",
      "userId": "09046790946486703509"
     },
     "user_tz": -480
    },
    "id": "gRHQMnu3yyw6",
    "outputId": "2fcbfdd3-48c2-424a-e260-7d7266ae9643"
   },
   "outputs": [
    {
     "data": {
      "image/png": "[encoded data removed]",
      "text/plain": [
       "<Figure size 432x288 with 1 Axes>"
      ]
     },
     "metadata": {
      "needs_background": "light"
     },
     "output_type": "display_data"
    }
   ],
   "source": [
    "plt.plot(train_cost,label='train_cost')\n",
    "plt.grid()\n",
    "plt.title('training loss')\n",
    "plt.xlabel('epochs')\n",
    "plt.ylabel('loss')\n",
    "plt.show()"
   ]
  },
  {
   "cell_type": "code",
   "execution_count": 42,
   "metadata": {
    "colab": {
     "base_uri": "https://localhost:8080/",
     "height": 295
    },
    "executionInfo": {
     "elapsed": 809,
     "status": "ok",
     "timestamp": 1604469351577,
     "user": {
      "displayName": "N26091194鄧立昌",
      "photoUrl": "",
      "userId": "09046790946486703509"
     },
     "user_tz": -480
    },
    "id": "rJ3Ev_B0y2Gq",
    "outputId": "1126930c-0bee-45fd-fc9b-92e4377b18df"
   },
   "outputs": [
    {
     "data": {
      "image/png": "[encoded data removed]",
      "text/plain": [
       "<Figure size 432x288 with 1 Axes>"
      ]
     },
     "metadata": {
      "needs_background": "light"
     },
     "output_type": "display_data"
    }
   ],
   "source": [
    "plt.plot(cv_cost,label='cv_acc')\n",
    "plt.grid()\n",
    "plt.title('validation loss')\n",
    "plt.xlabel('epochs')\n",
    "plt.ylabel('loss')\n",
    "plt.show()"
   ]
  },
  {
   "cell_type": "code",
   "execution_count": 43,
   "metadata": {},
   "outputs": [
    {
     "name": "stdout",
     "output_type": "stream",
     "text": [
      "train_acc: [0.9126166666666666, 0.97355, 0.98, 0.9837166666666667]\n",
      "cv_acc: [0.9509, 0.9753, 0.9806, 0.983]\n",
      "train_cost: [0.0023516049129733195, 0.0006914752572348031, 0.0005180871817904214, 0.0004286027627104583]\n",
      "cv_cost: [4.15043368935585e-05, 2.1481846645474435e-05, 1.584835648536682e-05, 1.3731084018945694e-05]\n"
     ]
    }
   ],
   "source": [
    "print('train_acc:',train_acc)\n",
    "print('cv_acc:',cv_acc)\n",
    "print('train_cost:',train_cost)\n",
    "print('cv_cost:',cv_cost)"
   ]
  },
  {
   "cell_type": "markdown",
   "metadata": {
    "id": "6XhVqx5vrxXM"
   },
   "source": [
    "## CNN(final layer with softmax)"
   ]
  },
  {
   "cell_type": "code",
   "execution_count": 44,
   "metadata": {
    "colab": {
     "base_uri": "https://localhost:8080/"
    },
    "executionInfo": {
     "elapsed": 680,
     "status": "ok",
     "timestamp": 1604468750891,
     "user": {
      "displayName": "N26091194鄧立昌",
      "photoUrl": "",
      "userId": "09046790946486703509"
     },
     "user_tz": -480
    },
    "id": "ZM3tduVErO-a",
    "outputId": "b677f087-fba6-40a0-ff3b-6793e7bb2525"
   },
   "outputs": [
    {
     "name": "stdout",
     "output_type": "stream",
     "text": [
      "GPU is avalible\n",
      "-Training on GPU-\n"
     ]
    }
   ],
   "source": [
    "if torch.cuda.is_available():\n",
    "  device = torch.device('cuda:0')\n",
    "  print('GPU is avalible')\n",
    "  print('-Training on GPU-')\n",
    "else:\n",
    "  device = torch.device('cpu')\n",
    "  print('GPU is not avalible')\n",
    "  print('Train on CPU')"
   ]
  },
  {
   "cell_type": "code",
   "execution_count": 45,
   "metadata": {
    "id": "eT3aBeUasDT4"
   },
   "outputs": [],
   "source": [
    "class CNN(nn.Module):\n",
    "    \n",
    "    # Contructor\n",
    "    def __init__(self, out_1=16, out_2=32):\n",
    "        super(CNN, self).__init__()\n",
    "        self.cnn1 = nn.Conv2d(in_channels=1, out_channels=out_1, kernel_size=5, padding=2)\n",
    "        self.maxpool1=nn.MaxPool2d(kernel_size=2)\n",
    "\n",
    "        self.cnn2 = nn.Conv2d(in_channels=out_1, out_channels=out_2, kernel_size=5, stride=1, padding=2)\n",
    "        self.maxpool2=nn.MaxPool2d(kernel_size=2)\n",
    "        self.fc1 = nn.Linear(out_2 * 7 * 7, 10)\n",
    "        self.softmax = nn.Softmax(dim=1)\n",
    "    \n",
    "    # Prediction\n",
    "    def forward(self, x):\n",
    "        x = self.cnn1(x)\n",
    "        x = torch.relu(x)\n",
    "        x = self.maxpool1(x)\n",
    "        x = self.cnn2(x)\n",
    "        x = torch.relu(x)\n",
    "        x = self.maxpool2(x)\n",
    "        #print('before flatten:',x.size())\n",
    "        x = x.view(x.size(0), -1)\n",
    "        #print('after flatten:',x.size())\n",
    "        x = self.fc1(x)\n",
    "        #print('after full connect:',x.size())\n",
    "        x = self.softmax(x)\n",
    "        #print('after softmax:',x.size())\n",
    "        return x"
   ]
  },
  {
   "cell_type": "code",
   "execution_count": 46,
   "metadata": {
    "colab": {
     "base_uri": "https://localhost:8080/"
    },
    "executionInfo": {
     "elapsed": 650,
     "status": "ok",
     "timestamp": 1604469129457,
     "user": {
      "displayName": "N26091194鄧立昌",
      "photoUrl": "",
      "userId": "09046790946486703509"
     },
     "user_tz": -480
    },
    "id": "_ZbMjVOHscuF",
    "outputId": "239da150-b561-4bdf-a9db-0aeb27eca1fc"
   },
   "outputs": [
    {
     "data": {
      "text/plain": [
       "CNN(\n",
       "  (cnn1): Conv2d(1, 16, kernel_size=(5, 5), stride=(1, 1), padding=(2, 2))\n",
       "  (maxpool1): MaxPool2d(kernel_size=2, stride=2, padding=0, dilation=1, ceil_mode=False)\n",
       "  (cnn2): Conv2d(16, 32, kernel_size=(5, 5), stride=(1, 1), padding=(2, 2))\n",
       "  (maxpool2): MaxPool2d(kernel_size=2, stride=2, padding=0, dilation=1, ceil_mode=False)\n",
       "  (fc1): Linear(in_features=1568, out_features=10, bias=True)\n",
       "  (softmax): Softmax(dim=1)\n",
       ")"
      ]
     },
     "execution_count": 46,
     "metadata": {},
     "output_type": "execute_result"
    }
   ],
   "source": [
    "model = CNN(out_1=16, out_2=32)\n",
    "model.to(device)"
   ]
  },
  {
   "cell_type": "code",
   "execution_count": 47,
   "metadata": {
    "id": "I3sexUV2sdBq"
   },
   "outputs": [],
   "source": [
    "criterion = nn.CrossEntropyLoss()\n",
    "learning_rate = 0.1\n",
    "optimizer = torch.optim.SGD(model.parameters(), lr = learning_rate)\n",
    "train_loader = torch.utils.data.DataLoader(dataset=train_dataset, batch_size=128)\n",
    "validation_loader = torch.utils.data.DataLoader(dataset=validation_dataset, batch_size=4096)"
   ]
  },
  {
   "cell_type": "code",
   "execution_count": 48,
   "metadata": {
    "id": "G5VaN9YRsfwZ"
   },
   "outputs": [],
   "source": [
    "def train_model(model,train_loader,validation_loader,optimizer,n_epochs=4):\n",
    "    \n",
    "  N_test=len(validation_dataset)\n",
    "  N_train=len(train_dataset)\n",
    "\n",
    "  train_acc=[] #training_accuracy\n",
    "  cv_acc=[]   #validatiob_accuracy\n",
    "  #trainning_loss=[]   #training_loss\n",
    "  train_cost=[]   #training_cost (sum of training_loss)\n",
    "  cv_cost=[]     #validation_cost\n",
    "\n",
    "  for epoch in range(n_epochs):\n",
    "    #training\n",
    "    cost = 0\n",
    "    correct = 0\n",
    "    model.train()\n",
    "    for x, y in train_loader:\n",
    "      x, y = x.to(device), y.to(device)\n",
    "      optimizer.zero_grad()\n",
    "      z = model(x)\n",
    "      _, yhat = torch.max(z.data, 1)\n",
    "      correct += (yhat == y).sum().item()\n",
    "      loss = criterion(z, y)\n",
    "      loss.backward()\n",
    "      optimizer.step()\n",
    "      #trainning_loss.append(loss.data)\n",
    "      cost += loss.item()\n",
    "    cost = cost / N_train   \n",
    "    train_cost.append(cost)\n",
    "    accuracy = correct / N_train\n",
    "    train_acc.append(accuracy)\n",
    "\n",
    "    #validation\n",
    "    correct=0\n",
    "    cost=0\n",
    "    model.eval()\n",
    "    with torch.no_grad(): \n",
    "      for x_test, y_test in validation_loader:\n",
    "        x_test, y_test= x_test.to(device), y_test.to(device)\n",
    "        z = model(x_test)\n",
    "        _, yhat = torch.max(z.data, 1)\n",
    "        correct += (yhat == y_test).sum().item()\n",
    "        loss = criterion(z, y_test)\n",
    "        cost += loss.item()\n",
    "      cost = cost / N_test\n",
    "      cv_cost.append(cost)\n",
    "      accuracy = correct / N_test\n",
    "      cv_acc.append(accuracy)\n",
    "     \n",
    "  return   train_acc, cv_acc, train_cost, cv_cost#, trainning_loss"
   ]
  },
  {
   "cell_type": "code",
   "execution_count": 49,
   "metadata": {
    "colab": {
     "base_uri": "https://localhost:8080/"
    },
    "executionInfo": {
     "elapsed": 24077,
     "status": "ok",
     "timestamp": 1604469158351,
     "user": {
      "displayName": "N26091194鄧立昌",
      "photoUrl": "",
      "userId": "09046790946486703509"
     },
     "user_tz": -480
    },
    "id": "ga-eXL9JsmTZ",
    "outputId": "58927646-78f3-486f-dd6b-4096c26ba6ba"
   },
   "outputs": [
    {
     "name": "stdout",
     "output_type": "stream",
     "text": [
      "Wall time: 42.6 s\n"
     ]
    }
   ],
   "source": [
    "%%time\n",
    "train_acc, cv_acc, train_cost, cv_cost = train_model(model=model,n_epochs=4,train_loader=train_loader,validation_loader=validation_loader,optimizer=optimizer)"
   ]
  },
  {
   "cell_type": "code",
   "execution_count": 50,
   "metadata": {
    "colab": {
     "base_uri": "https://localhost:8080/",
     "height": 295
    },
    "executionInfo": {
     "elapsed": 1026,
     "status": "ok",
     "timestamp": 1604469161077,
     "user": {
      "displayName": "N26091194鄧立昌",
      "photoUrl": "",
      "userId": "09046790946486703509"
     },
     "user_tz": -480
    },
    "id": "XlgjO-5Eu4X0",
    "outputId": "ff4a6c20-5ba0-467b-f43d-705c7dc402bf"
   },
   "outputs": [
    {
     "data": {
      "image/png": "[encoded data removed]",
      "text/plain": [
       "<Figure size 432x288 with 1 Axes>"
      ]
     },
     "metadata": {
      "needs_background": "light"
     },
     "output_type": "display_data"
    }
   ],
   "source": [
    "plt.plot(train_acc,label='train_acc')\n",
    "plt.plot(cv_acc ,label='cv_acc')\n",
    "plt.title('train / valid  accuracy')\n",
    "plt.xlabel('epochs')\n",
    "plt.ylabel('acc')\n",
    "plt.legend()\n",
    "plt.grid()\n",
    "plt.show()"
   ]
  },
  {
   "cell_type": "code",
   "execution_count": 51,
   "metadata": {
    "colab": {
     "base_uri": "https://localhost:8080/",
     "height": 295
    },
    "executionInfo": {
     "elapsed": 733,
     "status": "ok",
     "timestamp": 1604469163743,
     "user": {
      "displayName": "N26091194鄧立昌",
      "photoUrl": "",
      "userId": "09046790946486703509"
     },
     "user_tz": -480
    },
    "id": "sMstxvxgu4rh",
    "outputId": "af1dd979-0343-4838-b453-253e00ae7e7a"
   },
   "outputs": [
    {
     "data": {
      "image/png": "[encoded data removed]",
      "text/plain": [
       "<Figure size 432x288 with 1 Axes>"
      ]
     },
     "metadata": {
      "needs_background": "light"
     },
     "output_type": "display_data"
    }
   ],
   "source": [
    "plt.plot(train_cost,label='train_cost')\n",
    "plt.plot(cv_cost,label='cv_acc')\n",
    "plt.title('train / valid  loss')\n",
    "plt.xlabel('epochs')\n",
    "plt.ylabel('loss')\n",
    "plt.legend()\n",
    "plt.grid()\n",
    "plt.show()"
   ]
  },
  {
   "cell_type": "code",
   "execution_count": 52,
   "metadata": {
    "colab": {
     "base_uri": "https://localhost:8080/",
     "height": 295
    },
    "executionInfo": {
     "elapsed": 689,
     "status": "ok",
     "timestamp": 1604469167520,
     "user": {
      "displayName": "N26091194鄧立昌",
      "photoUrl": "",
      "userId": "09046790946486703509"
     },
     "user_tz": -480
    },
    "id": "pwSE1StAvSoC",
    "outputId": "f7a0e4e3-3823-444d-d7ce-81f088792a8b"
   },
   "outputs": [
    {
     "data": {
      "image/png": "[encoded data removed]",
      "text/plain": [
       "<Figure size 432x288 with 1 Axes>"
      ]
     },
     "metadata": {
      "needs_background": "light"
     },
     "output_type": "display_data"
    }
   ],
   "source": [
    "plt.plot(train_cost,label='train_cost')\n",
    "plt.grid()\n",
    "plt.title('training loss')\n",
    "plt.xlabel('epochs')\n",
    "plt.ylabel('loss')\n",
    "plt.show()"
   ]
  },
  {
   "cell_type": "code",
   "execution_count": 53,
   "metadata": {
    "colab": {
     "base_uri": "https://localhost:8080/",
     "height": 295
    },
    "executionInfo": {
     "elapsed": 704,
     "status": "ok",
     "timestamp": 1604469169099,
     "user": {
      "displayName": "N26091194鄧立昌",
      "photoUrl": "",
      "userId": "09046790946486703509"
     },
     "user_tz": -480
    },
    "id": "S52ZMoEvu8xZ",
    "outputId": "5511a161-51c7-4c52-eb06-d6b1cf6fa9e9"
   },
   "outputs": [
    {
     "data": {
      "image/png": "[encoded data removed]",
      "text/plain": [
       "<Figure size 432x288 with 1 Axes>"
      ]
     },
     "metadata": {
      "needs_background": "light"
     },
     "output_type": "display_data"
    }
   ],
   "source": [
    "plt.plot(cv_cost,label='cv_acc')\n",
    "plt.grid()\n",
    "plt.title('validation loss')\n",
    "plt.xlabel('epochs')\n",
    "plt.ylabel('loss')\n",
    "plt.show()"
   ]
  },
  {
   "cell_type": "code",
   "execution_count": 54,
   "metadata": {
    "colab": {
     "base_uri": "https://localhost:8080/"
    },
    "executionInfo": {
     "elapsed": 607,
     "status": "ok",
     "timestamp": 1604469173666,
     "user": {
      "displayName": "N26091194鄧立昌",
      "photoUrl": "",
      "userId": "09046790946486703509"
     },
     "user_tz": -480
    },
    "id": "buiYR-s4y-Ra",
    "outputId": "df529caa-b6aa-4226-d057-ccaf3fd34eed"
   },
   "outputs": [
    {
     "name": "stdout",
     "output_type": "stream",
     "text": [
      "train_acc: [0.5374333333333333, 0.7846333333333333, 0.8598, 0.8716]\n",
      "cv_acc: [0.7291, 0.8299, 0.8636, 0.8726]\n",
      "train_cost: [0.015072649262348812, 0.013137494045495987, 0.012551408676306407, 0.012445194615920386]\n",
      "cv_cost: [0.0005186910390853882, 0.000488691771030426, 0.00047870874404907224, 0.0004759382963180542]\n"
     ]
    }
   ],
   "source": [
    "print('train_acc:',train_acc)\n",
    "print('cv_acc:',cv_acc)\n",
    "print('train_cost:',train_cost)\n",
    "print('cv_cost:',cv_cost)"
   ]
  },
  {
   "cell_type": "code",
   "execution_count": null,
   "metadata": {},
   "outputs": [],
   "source": []
  }
 ],
 "metadata": {
  "accelerator": "GPU",
  "colab": {
   "authorship_tag": "ABX9TyOA9hjKzK+38pNzgAn1Lop/",
   "collapsed_sections": [
    "6XhVqx5vrxXM"
   ],
   "name": "cnn_mnist.ipynb",
   "provenance": []
  },
  "kernelspec": {
   "display_name": "Python 3",
   "language": "python",
   "name": "python3"
  },
  "language_info": {
   "codemirror_mode": {
    "name": "ipython",
    "version": 3
   },
   "file_extension": ".py",
   "mimetype": "text/x-python",
   "name": "python",
   "nbconvert_exporter": "python",
   "pygments_lexer": "ipython3",
   "version": "3.8.6"
  },
  "widgets": {
   "application/vnd.jupyter.widget-state+json": {
    "05103b081e3c4205b8db753f8c19b272": {
     "model_module": "@jupyter-widgets/controls",
     "model_name": "HBoxModel",
     "state": {
      "_dom_classes": [],
      "_model_module": "@jupyter-widgets/controls",
      "_model_module_version": "1.5.0",
      "_model_name": "HBoxModel",
      "_view_count": null,
      "_view_module": "@jupyter-widgets/controls",
      "_view_module_version": "1.5.0",
      "_view_name": "HBoxView",
      "box_style": "",
      "children": [
       "IPY_MODEL_86d7dfb8ea014530ad718ed554b3007f",
       "IPY_MODEL_80786a7c59dc491f9cf7a2c5c2989299"
      ],
      "layout": "IPY_MODEL_7f7118d0e9324413829901b387b1dfc2"
     }
    },
    "0717458c8fda4f6aa84dcf746605d10b": {
     "model_module": "@jupyter-widgets/controls",
     "model_name": "HTMLModel",
     "state": {
      "_dom_classes": [],
      "_model_module": "@jupyter-widgets/controls",
      "_model_module_version": "1.5.0",
      "_model_name": "HTMLModel",
      "_view_count": null,
      "_view_module": "@jupyter-widgets/controls",
      "_view_module_version": "1.5.0",
      "_view_name": "HTMLView",
      "description": "",
      "description_tooltip": null,
      "layout": "IPY_MODEL_d18cdddf642d48cea5620759052b7fbc",
      "placeholder": "​",
      "style": "IPY_MODEL_1fb38b6977fd4982bbe57c2539ca1a57",
      "value": " 9920512/? [00:01&lt;00:00, 6276464.12it/s]"
     }
    },
    "0e564c61cee849a1b968e06f4f53e93e": {
     "model_module": "@jupyter-widgets/controls",
     "model_name": "DescriptionStyleModel",
     "state": {
      "_model_module": "@jupyter-widgets/controls",
      "_model_module_version": "1.5.0",
      "_model_name": "DescriptionStyleModel",
      "_view_count": null,
      "_view_module": "@jupyter-widgets/base",
      "_view_module_version": "1.2.0",
      "_view_name": "StyleView",
      "description_width": ""
     }
    },
    "11a925d46333404c8a49da65e17a5853": {
     "model_module": "@jupyter-widgets/controls",
     "model_name": "ProgressStyleModel",
     "state": {
      "_model_module": "@jupyter-widgets/controls",
      "_model_module_version": "1.5.0",
      "_model_name": "ProgressStyleModel",
      "_view_count": null,
      "_view_module": "@jupyter-widgets/base",
      "_view_module_version": "1.2.0",
      "_view_name": "StyleView",
      "bar_color": null,
      "description_width": "initial"
     }
    },
    "17fa43cb92644aa680d4cbe1c53678fc": {
     "model_module": "@jupyter-widgets/base",
     "model_name": "LayoutModel",
     "state": {
      "_model_module": "@jupyter-widgets/base",
      "_model_module_version": "1.2.0",
      "_model_name": "LayoutModel",
      "_view_count": null,
      "_view_module": "@jupyter-widgets/base",
      "_view_module_version": "1.2.0",
      "_view_name": "LayoutView",
      "align_content": null,
      "align_items": null,
      "align_self": null,
      "border": null,
      "bottom": null,
      "display": null,
      "flex": null,
      "flex_flow": null,
      "grid_area": null,
      "grid_auto_columns": null,
      "grid_auto_flow": null,
      "grid_auto_rows": null,
      "grid_column": null,
      "grid_gap": null,
      "grid_row": null,
      "grid_template_areas": null,
      "grid_template_columns": null,
      "grid_template_rows": null,
      "height": null,
      "justify_content": null,
      "justify_items": null,
      "left": null,
      "margin": null,
      "max_height": null,
      "max_width": null,
      "min_height": null,
      "min_width": null,
      "object_fit": null,
      "object_position": null,
      "order": null,
      "overflow": null,
      "overflow_x": null,
      "overflow_y": null,
      "padding": null,
      "right": null,
      "top": null,
      "visibility": null,
      "width": null
     }
    },
    "1fb38b6977fd4982bbe57c2539ca1a57": {
     "model_module": "@jupyter-widgets/controls",
     "model_name": "DescriptionStyleModel",
     "state": {
      "_model_module": "@jupyter-widgets/controls",
      "_model_module_version": "1.5.0",
      "_model_name": "DescriptionStyleModel",
      "_view_count": null,
      "_view_module": "@jupyter-widgets/base",
      "_view_module_version": "1.2.0",
      "_view_name": "StyleView",
      "description_width": ""
     }
    },
    "220027c35a07419892c102b235056a1e": {
     "model_module": "@jupyter-widgets/base",
     "model_name": "LayoutModel",
     "state": {
      "_model_module": "@jupyter-widgets/base",
      "_model_module_version": "1.2.0",
      "_model_name": "LayoutModel",
      "_view_count": null,
      "_view_module": "@jupyter-widgets/base",
      "_view_module_version": "1.2.0",
      "_view_name": "LayoutView",
      "align_content": null,
      "align_items": null,
      "align_self": null,
      "border": null,
      "bottom": null,
      "display": null,
      "flex": null,
      "flex_flow": null,
      "grid_area": null,
      "grid_auto_columns": null,
      "grid_auto_flow": null,
      "grid_auto_rows": null,
      "grid_column": null,
      "grid_gap": null,
      "grid_row": null,
      "grid_template_areas": null,
      "grid_template_columns": null,
      "grid_template_rows": null,
      "height": null,
      "justify_content": null,
      "justify_items": null,
      "left": null,
      "margin": null,
      "max_height": null,
      "max_width": null,
      "min_height": null,
      "min_width": null,
      "object_fit": null,
      "object_position": null,
      "order": null,
      "overflow": null,
      "overflow_x": null,
      "overflow_y": null,
      "padding": null,
      "right": null,
      "top": null,
      "visibility": null,
      "width": null
     }
    },
    "2cf35a91d60f4edf812b722761c9484b": {
     "model_module": "@jupyter-widgets/controls",
     "model_name": "HBoxModel",
     "state": {
      "_dom_classes": [],
      "_model_module": "@jupyter-widgets/controls",
      "_model_module_version": "1.5.0",
      "_model_name": "HBoxModel",
      "_view_count": null,
      "_view_module": "@jupyter-widgets/controls",
      "_view_module_version": "1.5.0",
      "_view_name": "HBoxView",
      "box_style": "",
      "children": [
       "IPY_MODEL_3223e91357b647a9866d1f251f470290",
       "IPY_MODEL_5a92dbab9ecf4982bca0b8a770f65851"
      ],
      "layout": "IPY_MODEL_6a136ea3ac3d4a9aa13bec88c0c1d73b"
     }
    },
    "3223e91357b647a9866d1f251f470290": {
     "model_module": "@jupyter-widgets/controls",
     "model_name": "FloatProgressModel",
     "state": {
      "_dom_classes": [],
      "_model_module": "@jupyter-widgets/controls",
      "_model_module_version": "1.5.0",
      "_model_name": "FloatProgressModel",
      "_view_count": null,
      "_view_module": "@jupyter-widgets/controls",
      "_view_module_version": "1.5.0",
      "_view_name": "ProgressView",
      "bar_style": "success",
      "description": "",
      "description_tooltip": null,
      "layout": "IPY_MODEL_788d778fcf4e44188fa3b6ee641249be",
      "max": 1,
      "min": 0,
      "orientation": "horizontal",
      "style": "IPY_MODEL_6428ba44263242388292d9cc736cc2d2",
      "value": 1
     }
    },
    "3b74868a9a24440ea9e6975bfc140f33": {
     "model_module": "@jupyter-widgets/controls",
     "model_name": "FloatProgressModel",
     "state": {
      "_dom_classes": [],
      "_model_module": "@jupyter-widgets/controls",
      "_model_module_version": "1.5.0",
      "_model_name": "FloatProgressModel",
      "_view_count": null,
      "_view_module": "@jupyter-widgets/controls",
      "_view_module_version": "1.5.0",
      "_view_name": "ProgressView",
      "bar_style": "success",
      "description": "",
      "description_tooltip": null,
      "layout": "IPY_MODEL_6cb2c34c94164930a12832f676629f29",
      "max": 1,
      "min": 0,
      "orientation": "horizontal",
      "style": "IPY_MODEL_11a925d46333404c8a49da65e17a5853",
      "value": 1
     }
    },
    "3bf0b701bb3e4ebba8b990bee71b893e": {
     "model_module": "@jupyter-widgets/controls",
     "model_name": "HBoxModel",
     "state": {
      "_dom_classes": [],
      "_model_module": "@jupyter-widgets/controls",
      "_model_module_version": "1.5.0",
      "_model_name": "HBoxModel",
      "_view_count": null,
      "_view_module": "@jupyter-widgets/controls",
      "_view_module_version": "1.5.0",
      "_view_name": "HBoxView",
      "box_style": "",
      "children": [
       "IPY_MODEL_7fd14311efe440949cc7a14bd32eb6bf",
       "IPY_MODEL_0717458c8fda4f6aa84dcf746605d10b"
      ],
      "layout": "IPY_MODEL_4975768970184ac2bf415d6de729edba"
     }
    },
    "3f909e45cc3345c894d1692f65d2eccf": {
     "model_module": "@jupyter-widgets/controls",
     "model_name": "ProgressStyleModel",
     "state": {
      "_model_module": "@jupyter-widgets/controls",
      "_model_module_version": "1.5.0",
      "_model_name": "ProgressStyleModel",
      "_view_count": null,
      "_view_module": "@jupyter-widgets/base",
      "_view_module_version": "1.2.0",
      "_view_name": "StyleView",
      "bar_color": null,
      "description_width": "initial"
     }
    },
    "44e5d10c5f5841629cf772f8214d627d": {
     "model_module": "@jupyter-widgets/base",
     "model_name": "LayoutModel",
     "state": {
      "_model_module": "@jupyter-widgets/base",
      "_model_module_version": "1.2.0",
      "_model_name": "LayoutModel",
      "_view_count": null,
      "_view_module": "@jupyter-widgets/base",
      "_view_module_version": "1.2.0",
      "_view_name": "LayoutView",
      "align_content": null,
      "align_items": null,
      "align_self": null,
      "border": null,
      "bottom": null,
      "display": null,
      "flex": null,
      "flex_flow": null,
      "grid_area": null,
      "grid_auto_columns": null,
      "grid_auto_flow": null,
      "grid_auto_rows": null,
      "grid_column": null,
      "grid_gap": null,
      "grid_row": null,
      "grid_template_areas": null,
      "grid_template_columns": null,
      "grid_template_rows": null,
      "height": null,
      "justify_content": null,
      "justify_items": null,
      "left": null,
      "margin": null,
      "max_height": null,
      "max_width": null,
      "min_height": null,
      "min_width": null,
      "object_fit": null,
      "object_position": null,
      "order": null,
      "overflow": null,
      "overflow_x": null,
      "overflow_y": null,
      "padding": null,
      "right": null,
      "top": null,
      "visibility": null,
      "width": null
     }
    },
    "47ec492cf3d3434db7cc3cb96b3fdb56": {
     "model_module": "@jupyter-widgets/base",
     "model_name": "LayoutModel",
     "state": {
      "_model_module": "@jupyter-widgets/base",
      "_model_module_version": "1.2.0",
      "_model_name": "LayoutModel",
      "_view_count": null,
      "_view_module": "@jupyter-widgets/base",
      "_view_module_version": "1.2.0",
      "_view_name": "LayoutView",
      "align_content": null,
      "align_items": null,
      "align_self": null,
      "border": null,
      "bottom": null,
      "display": null,
      "flex": null,
      "flex_flow": null,
      "grid_area": null,
      "grid_auto_columns": null,
      "grid_auto_flow": null,
      "grid_auto_rows": null,
      "grid_column": null,
      "grid_gap": null,
      "grid_row": null,
      "grid_template_areas": null,
      "grid_template_columns": null,
      "grid_template_rows": null,
      "height": null,
      "justify_content": null,
      "justify_items": null,
      "left": null,
      "margin": null,
      "max_height": null,
      "max_width": null,
      "min_height": null,
      "min_width": null,
      "object_fit": null,
      "object_position": null,
      "order": null,
      "overflow": null,
      "overflow_x": null,
      "overflow_y": null,
      "padding": null,
      "right": null,
      "top": null,
      "visibility": null,
      "width": null
     }
    },
    "4975768970184ac2bf415d6de729edba": {
     "model_module": "@jupyter-widgets/base",
     "model_name": "LayoutModel",
     "state": {
      "_model_module": "@jupyter-widgets/base",
      "_model_module_version": "1.2.0",
      "_model_name": "LayoutModel",
      "_view_count": null,
      "_view_module": "@jupyter-widgets/base",
      "_view_module_version": "1.2.0",
      "_view_name": "LayoutView",
      "align_content": null,
      "align_items": null,
      "align_self": null,
      "border": null,
      "bottom": null,
      "display": null,
      "flex": null,
      "flex_flow": null,
      "grid_area": null,
      "grid_auto_columns": null,
      "grid_auto_flow": null,
      "grid_auto_rows": null,
      "grid_column": null,
      "grid_gap": null,
      "grid_row": null,
      "grid_template_areas": null,
      "grid_template_columns": null,
      "grid_template_rows": null,
      "height": null,
      "justify_content": null,
      "justify_items": null,
      "left": null,
      "margin": null,
      "max_height": null,
      "max_width": null,
      "min_height": null,
      "min_width": null,
      "object_fit": null,
      "object_position": null,
      "order": null,
      "overflow": null,
      "overflow_x": null,
      "overflow_y": null,
      "padding": null,
      "right": null,
      "top": null,
      "visibility": null,
      "width": null
     }
    },
    "5a92dbab9ecf4982bca0b8a770f65851": {
     "model_module": "@jupyter-widgets/controls",
     "model_name": "HTMLModel",
     "state": {
      "_dom_classes": [],
      "_model_module": "@jupyter-widgets/controls",
      "_model_module_version": "1.5.0",
      "_model_name": "HTMLModel",
      "_view_count": null,
      "_view_module": "@jupyter-widgets/controls",
      "_view_module_version": "1.5.0",
      "_view_name": "HTMLView",
      "description": "",
      "description_tooltip": null,
      "layout": "IPY_MODEL_220027c35a07419892c102b235056a1e",
      "placeholder": "​",
      "style": "IPY_MODEL_0e564c61cee849a1b968e06f4f53e93e",
      "value": " 1654784/? [00:00&lt;00:00, 2299773.94it/s]"
     }
    },
    "5dac1542914b4a2194ad9a5a770a1f28": {
     "model_module": "@jupyter-widgets/controls",
     "model_name": "ProgressStyleModel",
     "state": {
      "_model_module": "@jupyter-widgets/controls",
      "_model_module_version": "1.5.0",
      "_model_name": "ProgressStyleModel",
      "_view_count": null,
      "_view_module": "@jupyter-widgets/base",
      "_view_module_version": "1.2.0",
      "_view_name": "StyleView",
      "bar_color": null,
      "description_width": "initial"
     }
    },
    "6096e425058d417ea27d66806e374707": {
     "model_module": "@jupyter-widgets/controls",
     "model_name": "DescriptionStyleModel",
     "state": {
      "_model_module": "@jupyter-widgets/controls",
      "_model_module_version": "1.5.0",
      "_model_name": "DescriptionStyleModel",
      "_view_count": null,
      "_view_module": "@jupyter-widgets/base",
      "_view_module_version": "1.2.0",
      "_view_name": "StyleView",
      "description_width": ""
     }
    },
    "62bea86f46134c9493e1a65ba615c8ea": {
     "model_module": "@jupyter-widgets/base",
     "model_name": "LayoutModel",
     "state": {
      "_model_module": "@jupyter-widgets/base",
      "_model_module_version": "1.2.0",
      "_model_name": "LayoutModel",
      "_view_count": null,
      "_view_module": "@jupyter-widgets/base",
      "_view_module_version": "1.2.0",
      "_view_name": "LayoutView",
      "align_content": null,
      "align_items": null,
      "align_self": null,
      "border": null,
      "bottom": null,
      "display": null,
      "flex": null,
      "flex_flow": null,
      "grid_area": null,
      "grid_auto_columns": null,
      "grid_auto_flow": null,
      "grid_auto_rows": null,
      "grid_column": null,
      "grid_gap": null,
      "grid_row": null,
      "grid_template_areas": null,
      "grid_template_columns": null,
      "grid_template_rows": null,
      "height": null,
      "justify_content": null,
      "justify_items": null,
      "left": null,
      "margin": null,
      "max_height": null,
      "max_width": null,
      "min_height": null,
      "min_width": null,
      "object_fit": null,
      "object_position": null,
      "order": null,
      "overflow": null,
      "overflow_x": null,
      "overflow_y": null,
      "padding": null,
      "right": null,
      "top": null,
      "visibility": null,
      "width": null
     }
    },
    "6428ba44263242388292d9cc736cc2d2": {
     "model_module": "@jupyter-widgets/controls",
     "model_name": "ProgressStyleModel",
     "state": {
      "_model_module": "@jupyter-widgets/controls",
      "_model_module_version": "1.5.0",
      "_model_name": "ProgressStyleModel",
      "_view_count": null,
      "_view_module": "@jupyter-widgets/base",
      "_view_module_version": "1.2.0",
      "_view_name": "StyleView",
      "bar_color": null,
      "description_width": "initial"
     }
    },
    "6a136ea3ac3d4a9aa13bec88c0c1d73b": {
     "model_module": "@jupyter-widgets/base",
     "model_name": "LayoutModel",
     "state": {
      "_model_module": "@jupyter-widgets/base",
      "_model_module_version": "1.2.0",
      "_model_name": "LayoutModel",
      "_view_count": null,
      "_view_module": "@jupyter-widgets/base",
      "_view_module_version": "1.2.0",
      "_view_name": "LayoutView",
      "align_content": null,
      "align_items": null,
      "align_self": null,
      "border": null,
      "bottom": null,
      "display": null,
      "flex": null,
      "flex_flow": null,
      "grid_area": null,
      "grid_auto_columns": null,
      "grid_auto_flow": null,
      "grid_auto_rows": null,
      "grid_column": null,
      "grid_gap": null,
      "grid_row": null,
      "grid_template_areas": null,
      "grid_template_columns": null,
      "grid_template_rows": null,
      "height": null,
      "justify_content": null,
      "justify_items": null,
      "left": null,
      "margin": null,
      "max_height": null,
      "max_width": null,
      "min_height": null,
      "min_width": null,
      "object_fit": null,
      "object_position": null,
      "order": null,
      "overflow": null,
      "overflow_x": null,
      "overflow_y": null,
      "padding": null,
      "right": null,
      "top": null,
      "visibility": null,
      "width": null
     }
    },
    "6cb2c34c94164930a12832f676629f29": {
     "model_module": "@jupyter-widgets/base",
     "model_name": "LayoutModel",
     "state": {
      "_model_module": "@jupyter-widgets/base",
      "_model_module_version": "1.2.0",
      "_model_name": "LayoutModel",
      "_view_count": null,
      "_view_module": "@jupyter-widgets/base",
      "_view_module_version": "1.2.0",
      "_view_name": "LayoutView",
      "align_content": null,
      "align_items": null,
      "align_self": null,
      "border": null,
      "bottom": null,
      "display": null,
      "flex": null,
      "flex_flow": null,
      "grid_area": null,
      "grid_auto_columns": null,
      "grid_auto_flow": null,
      "grid_auto_rows": null,
      "grid_column": null,
      "grid_gap": null,
      "grid_row": null,
      "grid_template_areas": null,
      "grid_template_columns": null,
      "grid_template_rows": null,
      "height": null,
      "justify_content": null,
      "justify_items": null,
      "left": null,
      "margin": null,
      "max_height": null,
      "max_width": null,
      "min_height": null,
      "min_width": null,
      "object_fit": null,
      "object_position": null,
      "order": null,
      "overflow": null,
      "overflow_x": null,
      "overflow_y": null,
      "padding": null,
      "right": null,
      "top": null,
      "visibility": null,
      "width": null
     }
    },
    "788d778fcf4e44188fa3b6ee641249be": {
     "model_module": "@jupyter-widgets/base",
     "model_name": "LayoutModel",
     "state": {
      "_model_module": "@jupyter-widgets/base",
      "_model_module_version": "1.2.0",
      "_model_name": "LayoutModel",
      "_view_count": null,
      "_view_module": "@jupyter-widgets/base",
      "_view_module_version": "1.2.0",
      "_view_name": "LayoutView",
      "align_content": null,
      "align_items": null,
      "align_self": null,
      "border": null,
      "bottom": null,
      "display": null,
      "flex": null,
      "flex_flow": null,
      "grid_area": null,
      "grid_auto_columns": null,
      "grid_auto_flow": null,
      "grid_auto_rows": null,
      "grid_column": null,
      "grid_gap": null,
      "grid_row": null,
      "grid_template_areas": null,
      "grid_template_columns": null,
      "grid_template_rows": null,
      "height": null,
      "justify_content": null,
      "justify_items": null,
      "left": null,
      "margin": null,
      "max_height": null,
      "max_width": null,
      "min_height": null,
      "min_width": null,
      "object_fit": null,
      "object_position": null,
      "order": null,
      "overflow": null,
      "overflow_x": null,
      "overflow_y": null,
      "padding": null,
      "right": null,
      "top": null,
      "visibility": null,
      "width": null
     }
    },
    "7d749a8f036e495ca372390984eb9ec2": {
     "model_module": "@jupyter-widgets/base",
     "model_name": "LayoutModel",
     "state": {
      "_model_module": "@jupyter-widgets/base",
      "_model_module_version": "1.2.0",
      "_model_name": "LayoutModel",
      "_view_count": null,
      "_view_module": "@jupyter-widgets/base",
      "_view_module_version": "1.2.0",
      "_view_name": "LayoutView",
      "align_content": null,
      "align_items": null,
      "align_self": null,
      "border": null,
      "bottom": null,
      "display": null,
      "flex": null,
      "flex_flow": null,
      "grid_area": null,
      "grid_auto_columns": null,
      "grid_auto_flow": null,
      "grid_auto_rows": null,
      "grid_column": null,
      "grid_gap": null,
      "grid_row": null,
      "grid_template_areas": null,
      "grid_template_columns": null,
      "grid_template_rows": null,
      "height": null,
      "justify_content": null,
      "justify_items": null,
      "left": null,
      "margin": null,
      "max_height": null,
      "max_width": null,
      "min_height": null,
      "min_width": null,
      "object_fit": null,
      "object_position": null,
      "order": null,
      "overflow": null,
      "overflow_x": null,
      "overflow_y": null,
      "padding": null,
      "right": null,
      "top": null,
      "visibility": null,
      "width": null
     }
    },
    "7f7118d0e9324413829901b387b1dfc2": {
     "model_module": "@jupyter-widgets/base",
     "model_name": "LayoutModel",
     "state": {
      "_model_module": "@jupyter-widgets/base",
      "_model_module_version": "1.2.0",
      "_model_name": "LayoutModel",
      "_view_count": null,
      "_view_module": "@jupyter-widgets/base",
      "_view_module_version": "1.2.0",
      "_view_name": "LayoutView",
      "align_content": null,
      "align_items": null,
      "align_self": null,
      "border": null,
      "bottom": null,
      "display": null,
      "flex": null,
      "flex_flow": null,
      "grid_area": null,
      "grid_auto_columns": null,
      "grid_auto_flow": null,
      "grid_auto_rows": null,
      "grid_column": null,
      "grid_gap": null,
      "grid_row": null,
      "grid_template_areas": null,
      "grid_template_columns": null,
      "grid_template_rows": null,
      "height": null,
      "justify_content": null,
      "justify_items": null,
      "left": null,
      "margin": null,
      "max_height": null,
      "max_width": null,
      "min_height": null,
      "min_width": null,
      "object_fit": null,
      "object_position": null,
      "order": null,
      "overflow": null,
      "overflow_x": null,
      "overflow_y": null,
      "padding": null,
      "right": null,
      "top": null,
      "visibility": null,
      "width": null
     }
    },
    "7fd14311efe440949cc7a14bd32eb6bf": {
     "model_module": "@jupyter-widgets/controls",
     "model_name": "FloatProgressModel",
     "state": {
      "_dom_classes": [],
      "_model_module": "@jupyter-widgets/controls",
      "_model_module_version": "1.5.0",
      "_model_name": "FloatProgressModel",
      "_view_count": null,
      "_view_module": "@jupyter-widgets/controls",
      "_view_module_version": "1.5.0",
      "_view_name": "ProgressView",
      "bar_style": "success",
      "description": "",
      "description_tooltip": null,
      "layout": "IPY_MODEL_44e5d10c5f5841629cf772f8214d627d",
      "max": 1,
      "min": 0,
      "orientation": "horizontal",
      "style": "IPY_MODEL_5dac1542914b4a2194ad9a5a770a1f28",
      "value": 1
     }
    },
    "80786a7c59dc491f9cf7a2c5c2989299": {
     "model_module": "@jupyter-widgets/controls",
     "model_name": "HTMLModel",
     "state": {
      "_dom_classes": [],
      "_model_module": "@jupyter-widgets/controls",
      "_model_module_version": "1.5.0",
      "_model_name": "HTMLModel",
      "_view_count": null,
      "_view_module": "@jupyter-widgets/controls",
      "_view_module_version": "1.5.0",
      "_view_name": "HTMLView",
      "description": "",
      "description_tooltip": null,
      "layout": "IPY_MODEL_47ec492cf3d3434db7cc3cb96b3fdb56",
      "placeholder": "​",
      "style": "IPY_MODEL_6096e425058d417ea27d66806e374707",
      "value": " 32768/? [00:00&lt;00:00, 362040.64it/s]"
     }
    },
    "86d7dfb8ea014530ad718ed554b3007f": {
     "model_module": "@jupyter-widgets/controls",
     "model_name": "FloatProgressModel",
     "state": {
      "_dom_classes": [],
      "_model_module": "@jupyter-widgets/controls",
      "_model_module_version": "1.5.0",
      "_model_name": "FloatProgressModel",
      "_view_count": null,
      "_view_module": "@jupyter-widgets/controls",
      "_view_module_version": "1.5.0",
      "_view_name": "ProgressView",
      "bar_style": "success",
      "description": "",
      "description_tooltip": null,
      "layout": "IPY_MODEL_62bea86f46134c9493e1a65ba615c8ea",
      "max": 1,
      "min": 0,
      "orientation": "horizontal",
      "style": "IPY_MODEL_3f909e45cc3345c894d1692f65d2eccf",
      "value": 1
     }
    },
    "a1ed5a2d8e2f46549d30843c7074171d": {
     "model_module": "@jupyter-widgets/controls",
     "model_name": "HTMLModel",
     "state": {
      "_dom_classes": [],
      "_model_module": "@jupyter-widgets/controls",
      "_model_module_version": "1.5.0",
      "_model_name": "HTMLModel",
      "_view_count": null,
      "_view_module": "@jupyter-widgets/controls",
      "_view_module_version": "1.5.0",
      "_view_name": "HTMLView",
      "description": "",
      "description_tooltip": null,
      "layout": "IPY_MODEL_7d749a8f036e495ca372390984eb9ec2",
      "placeholder": "​",
      "style": "IPY_MODEL_ed720ac8a3d54392ae15b2e3aad02579",
      "value": " 8192/? [00:00&lt;00:00, 27420.64it/s]"
     }
    },
    "b12751d3616e4f9cbfdc501d1968d892": {
     "model_module": "@jupyter-widgets/controls",
     "model_name": "HBoxModel",
     "state": {
      "_dom_classes": [],
      "_model_module": "@jupyter-widgets/controls",
      "_model_module_version": "1.5.0",
      "_model_name": "HBoxModel",
      "_view_count": null,
      "_view_module": "@jupyter-widgets/controls",
      "_view_module_version": "1.5.0",
      "_view_name": "HBoxView",
      "box_style": "",
      "children": [
       "IPY_MODEL_3b74868a9a24440ea9e6975bfc140f33",
       "IPY_MODEL_a1ed5a2d8e2f46549d30843c7074171d"
      ],
      "layout": "IPY_MODEL_17fa43cb92644aa680d4cbe1c53678fc"
     }
    },
    "d18cdddf642d48cea5620759052b7fbc": {
     "model_module": "@jupyter-widgets/base",
     "model_name": "LayoutModel",
     "state": {
      "_model_module": "@jupyter-widgets/base",
      "_model_module_version": "1.2.0",
      "_model_name": "LayoutModel",
      "_view_count": null,
      "_view_module": "@jupyter-widgets/base",
      "_view_module_version": "1.2.0",
      "_view_name": "LayoutView",
      "align_content": null,
      "align_items": null,
      "align_self": null,
      "border": null,
      "bottom": null,
      "display": null,
      "flex": null,
      "flex_flow": null,
      "grid_area": null,
      "grid_auto_columns": null,
      "grid_auto_flow": null,
      "grid_auto_rows": null,
      "grid_column": null,
      "grid_gap": null,
      "grid_row": null,
      "grid_template_areas": null,
      "grid_template_columns": null,
      "grid_template_rows": null,
      "height": null,
      "justify_content": null,
      "justify_items": null,
      "left": null,
      "margin": null,
      "max_height": null,
      "max_width": null,
      "min_height": null,
      "min_width": null,
      "object_fit": null,
      "object_position": null,
      "order": null,
      "overflow": null,
      "overflow_x": null,
      "overflow_y": null,
      "padding": null,
      "right": null,
      "top": null,
      "visibility": null,
      "width": null
     }
    },
    "ed720ac8a3d54392ae15b2e3aad02579": {
     "model_module": "@jupyter-widgets/controls",
     "model_name": "DescriptionStyleModel",
     "state": {
      "_model_module": "@jupyter-widgets/controls",
      "_model_module_version": "1.5.0",
      "_model_name": "DescriptionStyleModel",
      "_view_count": null,
      "_view_module": "@jupyter-widgets/base",
      "_view_module_version": "1.2.0",
      "_view_name": "StyleView",
      "description_width": ""
     }
    }
   }
  }
 },
 "nbformat": 4,
 "nbformat_minor": 1
}
