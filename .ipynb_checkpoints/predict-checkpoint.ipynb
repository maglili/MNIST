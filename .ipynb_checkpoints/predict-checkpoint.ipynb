{
 "cells": [
  {
   "cell_type": "markdown",
   "metadata": {},
   "source": [
    "# Predit pics\n",
    "## import module"
   ]
  },
  {
   "cell_type": "code",
   "execution_count": 1,
   "metadata": {},
   "outputs": [
    {
     "name": "stdout",
     "output_type": "stream",
     "text": [
      "Training in CPU\n"
     ]
    }
   ],
   "source": [
    "import torch \n",
    "import torchvision.transforms as transforms\n",
    "import matplotlib.pylab as plt\n",
    "import torch.nn as nn\n",
    "from PIL import Image\n",
    "\n",
    "IMAGE_SIZE = 28\n",
    "composed = transforms.Compose([transforms.Grayscale(num_output_channels=1), \\\n",
    "                               transforms.Resize((IMAGE_SIZE, IMAGE_SIZE), interpolation = 2), \\\n",
    "                               transforms.ToTensor(),])\n",
    "\n",
    "\n",
    "def show_data(data_sample):\n",
    "    plt.imshow(data_sample[0].numpy().reshape(IMAGE_SIZE, IMAGE_SIZE), cmap='gray')\n",
    "    \n",
    "    \n",
    "if torch.cuda.is_available():\n",
    "  device = torch.device('cuda:0')\n",
    "  print('GPU is avalible')\n",
    "else:\n",
    "  device = torch.device('cpu')\n",
    "  print('Training in CPU')\n",
    "    \n",
    "    "
   ]
  },
  {
   "cell_type": "markdown",
   "metadata": {},
   "source": [
    "## CNN\n",
    "### loading model(invert)\n",
    "<a href=\"https://www.researchgate.net/figure/Architecture-of-a-Convolutional-Neural-Network-CNN-The-traditional-CNN-structure-is_fig1_330106889\"><img src=\"https://www.researchgate.net/publication/330106889/figure/fig1/AS:710963951063040@1546518423301/Architecture-of-a-Convolutional-Neural-Network-CNN-The-traditional-CNN-structure-is.png\" alt=\"Architecture of a Convolutional Neural Network (CNN). The traditional CNN structure is mainly composed of convolution layers, pooling layers, fully connected layers, and some activation functions. Each convolution kernel is connected to the part of feature maps. The input is connected to all of the output elements in the fully connected layer.\"/></a>"
   ]
  },
  {
   "cell_type": "code",
   "execution_count": 3,
   "metadata": {},
   "outputs": [
    {
     "data": {
      "text/plain": [
       "<All keys matched successfully>"
      ]
     },
     "execution_count": 3,
     "metadata": {},
     "output_type": "execute_result"
    }
   ],
   "source": [
    "class CNN(nn.Module):\n",
    "    \n",
    "    # Contructor\n",
    "    def __init__(self, out_1=64, out_2=128):\n",
    "        super(CNN, self).__init__()\n",
    "        self.cnn1 = nn.Conv2d(in_channels=1, out_channels=out_1, kernel_size=5, padding=2)\n",
    "        self.maxpool1=nn.MaxPool2d(kernel_size=2)\n",
    "\n",
    "        self.cnn2 = nn.Conv2d(in_channels=out_1, out_channels=out_2, kernel_size=5, stride=1, padding=2)\n",
    "        self.maxpool2=nn.MaxPool2d(kernel_size=2)\n",
    "        self.fc1 = nn.Linear(out_2 * 7 * 7, 10)\n",
    "    \n",
    "    # Prediction\n",
    "    def forward(self, x):\n",
    "        x = self.cnn1(x)\n",
    "        x = torch.relu(x)\n",
    "        x = self.maxpool1(x)\n",
    "        x = self.cnn2(x)\n",
    "        x = torch.relu(x)\n",
    "        x = self.maxpool2(x)\n",
    "        x = x.view(x.size(0), -1)\n",
    "        x = self.fc1(x)\n",
    "        return x\n",
    "    \n",
    "model = CNN(out_1=64, out_2=128)\n",
    "model.load_state_dict(torch.load('./model/invert_color.pt', map_location=device)) #<--------------------change model"
   ]
  },
  {
   "cell_type": "markdown",
   "metadata": {},
   "source": [
    "### display pics"
   ]
  },
  {
   "cell_type": "code",
   "execution_count": 5,
   "metadata": {},
   "outputs": [
    {
     "name": "stdout",
     "output_type": "stream",
     "text": [
      "<PIL.JpegImagePlugin.JpegImageFile image mode=RGB size=1152x648 at 0x24D7FB29FA0>\n"
     ]
    },
    {
     "data": {
      "image/png": "[encoded data removed]",
      "text/plain": [
       "<Figure size 432x288 with 1 Axes>"
      ]
     },
     "metadata": {
      "needs_background": "light"
     },
     "output_type": "display_data"
    }
   ],
   "source": [
    "image = Image.open(r\"./pics/77.jpg\")#<-----change your pics path\n",
    "print(image)\n",
    "X = composed(image)\n",
    "X = X[None, :, :]\n",
    "show_data(X)"
   ]
  },
  {
   "cell_type": "markdown",
   "metadata": {},
   "source": [
    "### Predict"
   ]
  },
  {
   "cell_type": "code",
   "execution_count": 6,
   "metadata": {},
   "outputs": [
    {
     "name": "stdout",
     "output_type": "stream",
     "text": [
      "推測 0 的機率: 0.00159 %\n",
      "推測 1 的機率: 96.7 %\n",
      "推測 2 的機率: 0.488 %\n",
      "推測 3 的機率: 0.00318 %\n",
      "推測 4 的機率: 0.32 %\n",
      "推測 5 的機率: 0.0546 %\n",
      "推測 6 的機率: 0.00097 %\n",
      "推測 7 的機率: 2.45 %\n",
      "推測 8 的機率: 0.000287 %\n",
      "推測 9 的機率: 0.00469 %\n",
      "----------------------------------------\n",
      "預測結果 1st : 1\n",
      "預測結果 2nd : 7\n",
      "預測結果 3rd : 2\n",
      "----------------------------------------\n",
      "預測為 : 1\n"
     ]
    }
   ],
   "source": [
    "model.eval()\n",
    "z = model(X)\n",
    "z = nn.functional.softmax(z, dim=1)\n",
    "output = z.tolist()[0]\n",
    "output_copy = output.copy()\n",
    "\n",
    "for index, value in enumerate(output):\n",
    "    print('推測 '+str(index)+' 的機率: {:.3} %'.format(value * 100))\n",
    "print('-'*40)\n",
    "\n",
    "print('預測結果 1st :', output.index(max(output_copy)))\n",
    "output_copy.remove(max(output_copy))\n",
    "\n",
    "print('預測結果 2nd :', output.index(max(output_copy)))\n",
    "output_copy.remove(max(output_copy))\n",
    "\n",
    "print('預測結果 3rd :', output.index(max(output_copy)))\n",
    "output_copy.remove(max(output_copy))\n",
    "\n",
    "print('-'*40)\n",
    "print('預測為 :',output.index(max(output)))\n",
    "\n",
    "# model: invert_color.pt\n",
    "# error in black : 1, 3, 6, 7, 9 (acc: 50%)\n",
    "# error in white : 0, 6, 7, 9 (acc: 60%)\n",
    "# -------------------------------------"
   ]
  },
  {
   "cell_type": "markdown",
   "metadata": {},
   "source": [
    "## ResNet\n",
    "### loading model\n",
    "<a href=\"https://www.researchgate.net/figure/Proposed-Modified-ResNet-18-architecture-for-Bangla-HCR-In-the-diagram-conv-stands-for_fig1_323063171\"><img src=\"https://www.researchgate.net/profile/Muhammad_Hasan19/publication/323063171/figure/fig1/AS:603178554904576@1520820382219/Proposed-Modified-ResNet-18-architecture-for-Bangla-HCR-In-the-diagram-conv-stands-for.png\" alt=\"Proposed Modified ResNet-18 architecture for Bangla HCR. In the diagram, conv stands for Convolutional layer, Pool stands for MaxPool layer, batch norm stand for batch normalization, Relu stands for rectified linear unit activation layer, Sum stands for the addition in ResNet, and FC stand for fully connected hidden layers. In this architecture, we have eight ResNet modules which are modified by adding a dropout layer after the second convolutional layers.\"/></a>"
   ]
  },
  {
   "cell_type": "code",
   "execution_count": 7,
   "metadata": {},
   "outputs": [
    {
     "data": {
      "text/plain": [
       "<All keys matched successfully>"
      ]
     },
     "execution_count": 7,
     "metadata": {},
     "output_type": "execute_result"
    }
   ],
   "source": [
    "from torchvision.models.resnet import ResNet, BasicBlock, Bottleneck\n",
    "\n",
    "class MNISTResNet(ResNet):\n",
    "    def __init__(self):\n",
    "        super(MNISTResNet, self).__init__(BasicBlock, [2, 2, 2, 2], num_classes=10) # Based on ResNet18\n",
    "        # super(MNISTResNet, self).__init__(BasicBlock, [3, 4, 6, 3], num_classes=10) # Based on ResNet34\n",
    "        # super(MNISTResNet, self).__init__(Bottleneck, [3, 4, 6, 3], num_classes=10) # Based on ResNet50\n",
    "        self.conv1 = nn.Conv2d(1, 64, kernel_size=7, stride=1, padding=3,bias=False)\n",
    "\n",
    "model = MNISTResNet()\n",
    "model.load_state_dict(torch.load('./model/ResNet', map_location=device))  #<--------------------change model"
   ]
  },
  {
   "cell_type": "markdown",
   "metadata": {},
   "source": [
    "### disply pic"
   ]
  },
  {
   "cell_type": "code",
   "execution_count": 9,
   "metadata": {},
   "outputs": [
    {
     "data": {
      "image/png": "[encoded data removed]",
      "text/plain": [
       "<Figure size 432x288 with 1 Axes>"
      ]
     },
     "metadata": {
      "needs_background": "light"
     },
     "output_type": "display_data"
    }
   ],
   "source": [
    "image = Image.open(r\"./pics/77.jpg\") #<-----change your pics path\n",
    "X = composed(image)\n",
    "X = X[None, :, :]\n",
    "show_data(X)"
   ]
  },
  {
   "cell_type": "markdown",
   "metadata": {},
   "source": [
    "### Predict"
   ]
  },
  {
   "cell_type": "code",
   "execution_count": 10,
   "metadata": {},
   "outputs": [
    {
     "name": "stdout",
     "output_type": "stream",
     "text": [
      "推測 0 的機率: 0.256 %\n",
      "推測 1 的機率: 41.5 %\n",
      "推測 2 的機率: 0.335 %\n",
      "推測 3 的機率: 0.437 %\n",
      "推測 4 的機率: 0.387 %\n",
      "推測 5 的機率: 0.588 %\n",
      "推測 6 的機率: 0.0713 %\n",
      "推測 7 的機率: 49.0 %\n",
      "推測 8 的機率: 3.16 %\n",
      "推測 9 的機率: 4.33 %\n",
      "----------------------------------------\n",
      "預測結果 1st : 7\n",
      "預測結果 2nd : 1\n",
      "預測結果 3rd : 9\n",
      "----------------------------------------\n",
      "預測為 : 7\n"
     ]
    }
   ],
   "source": [
    "model.eval()\n",
    "z = model(X)\n",
    "z = nn.functional.softmax(z, dim=1)\n",
    "output = z.tolist()[0]\n",
    "output_copy = output.copy()\n",
    "\n",
    "for index, value in enumerate(output):\n",
    "    print('推測 '+str(index)+' 的機率: {:.3} %'.format(value * 100))\n",
    "print('-'*40)\n",
    "\n",
    "print('預測結果 1st :', output.index(max(output_copy)))\n",
    "output_copy.remove(max(output_copy))\n",
    "\n",
    "print('預測結果 2nd :', output.index(max(output_copy)))\n",
    "output_copy.remove(max(output_copy))\n",
    "\n",
    "print('預測結果 3rd :', output.index(max(output_copy)))\n",
    "output_copy.remove(max(output_copy))\n",
    "\n",
    "print('-'*40)\n",
    "print('預測為 :',output.index(max(output)))\n",
    "# model: ResNet\n",
    "# error in black : 0, 3, 4, 5, 6, 7, 9 (acc: 30%)\n",
    "# error in white : 6 (acc: 90%)\n",
    "# -------------------------------------"
   ]
  },
  {
   "cell_type": "code",
   "execution_count": null,
   "metadata": {},
   "outputs": [],
   "source": []
  }
 ],
 "metadata": {
  "kernelspec": {
   "display_name": "Python 3",
   "language": "python",
   "name": "python3"
  },
  "language_info": {
   "codemirror_mode": {
    "name": "ipython",
    "version": 3
   },
   "file_extension": ".py",
   "mimetype": "text/x-python",
   "name": "python",
   "nbconvert_exporter": "python",
   "pygments_lexer": "ipython3",
   "version": "3.8.6"
  }
 },
 "nbformat": 4,
 "nbformat_minor": 4
}
